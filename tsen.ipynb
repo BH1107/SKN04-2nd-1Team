{
 "cells": [
  {
   "cell_type": "code",
   "execution_count": 9,
   "metadata": {},
   "outputs": [],
   "source": [
    "import pandas as pd\n",
    "from sklearn.manifold import TSNE\n",
    "import plotly.express as px"
   ]
  },
  {
   "cell_type": "code",
   "execution_count": 10,
   "metadata": {},
   "outputs": [],
   "source": [
    "from sklearn.preprocessing import LabelEncoder\n",
    "\n",
    "\n",
    "def convert_category_into_integer(df: pd.DataFrame, columns: list):\n",
    "\n",
    "    label_encoders = {}  # 각 열의 LabelEncoder 객체를 저장할 딕셔너리입니다.\n",
    "    \n",
    "    for column in columns:\n",
    "        # 각 열에 대해 LabelEncoder 객체를 생성합니다.\n",
    "        label_encoder = LabelEncoder()\n",
    "        \n",
    "        # LabelEncoder를 사용하여 해당 열의 범주형 데이터를 정수형으로 변환합니다.\n",
    "        df.loc[:, column] = label_encoder.fit_transform(df[column])\n",
    "        \n",
    "        # 변환된 LabelEncoder 객체를 딕셔너리에 저장합니다.\n",
    "        label_encoders.update({column: label_encoder})\n",
    "    \n",
    "    # 변환된 데이터프레임과 LabelEncoder 객체를 포함하는 딕셔너리를 반환합니다.\n",
    "    return df, label_encoders"
   ]
  },
  {
   "cell_type": "code",
   "execution_count": 11,
   "metadata": {},
   "outputs": [],
   "source": [
    "data = pd.read_csv('./data/train.csv')"
   ]
  },
  {
   "cell_type": "code",
   "execution_count": 12,
   "metadata": {},
   "outputs": [],
   "source": [
    "data = data.dropna()"
   ]
  },
  {
   "cell_type": "code",
   "execution_count": 13,
   "metadata": {},
   "outputs": [],
   "source": [
    "data, _ = convert_category_into_integer(data, ('Churn','ServiceArea','ChildrenInHH','HandsetRefurbished','HandsetWebCapable','TruckOwner','RVOwner','Homeownership','BuysViaMailOrder','RespondsToMailOffers','OptOutMailings','NonUSTravel','OwnsComputer','HasCreditCard','NewCellphoneUser','NotNewCellphoneUser','OwnsMotorcycle','HandsetPrice','MadeCallToRetentionTeam','CreditRating','PrizmCode','Occupation','MaritalStatus'))"
   ]
  },
  {
   "cell_type": "code",
   "execution_count": 14,
   "metadata": {},
   "outputs": [],
   "source": [
    "data[['Churn','ServiceArea','ChildrenInHH','HandsetRefurbished','HandsetWebCapable','TruckOwner','RVOwner','Homeownership','BuysViaMailOrder','RespondsToMailOffers','OptOutMailings','NonUSTravel','OwnsComputer','HasCreditCard','NewCellphoneUser','NotNewCellphoneUser','OwnsMotorcycle','HandsetPrice','MadeCallToRetentionTeam','CreditRating','PrizmCode','Occupation','MaritalStatus']]=data[['Churn','ServiceArea','ChildrenInHH','HandsetRefurbished','HandsetWebCapable','TruckOwner','RVOwner','Homeownership','BuysViaMailOrder','RespondsToMailOffers','OptOutMailings','NonUSTravel','OwnsComputer','HasCreditCard','NewCellphoneUser','NotNewCellphoneUser','OwnsMotorcycle','HandsetPrice','MadeCallToRetentionTeam','CreditRating','PrizmCode','Occupation','MaritalStatus']].astype(int)"
   ]
  },
  {
   "cell_type": "code",
   "execution_count": 15,
   "metadata": {},
   "outputs": [],
   "source": [
    "t_sns = TSNE(n_components=2)\n",
    "data_tsne_transformed = t_sns.fit_transform(data.drop(columns='Churn'))\n",
    "data_tsne_transformed = pd.DataFrame(data_tsne_transformed, columns=['TSNE1','TSNE2'])\n",
    "data_tsne_transformed = pd.concat([\n",
    "    data_tsne_transformed,\n",
    "    data.filter(items=['Churn'])\n",
    "    ],\n",
    "    axis=1\n",
    ")\n",
    "px.scatter(\n",
    "    data_tsne_transformed,\n",
    "    x='TSNE1',\n",
    "    y='TSNE2',\n",
    "    color='Churn'\n",
    ")"
   ]
  }
 ],
 "metadata": {
  "kernelspec": {
   "display_name": "deepLearning",
   "language": "python",
   "name": "python3"
  },
  "language_info": {
   "codemirror_mode": {
    "name": "ipython",
    "version": 3
   },
   "file_extension": ".py",
   "mimetype": "text/x-python",
   "name": "python",
   "nbconvert_exporter": "python",
   "pygments_lexer": "ipython3",
   "version": "3.10.14"
  }
 },
 "nbformat": 4,
 "nbformat_minor": 2
}
